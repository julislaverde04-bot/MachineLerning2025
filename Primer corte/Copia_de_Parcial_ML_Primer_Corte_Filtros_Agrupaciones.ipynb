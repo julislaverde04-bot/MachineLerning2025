{
  "cells": [
    {
      "cell_type": "markdown",
      "id": "0d026f17",
      "metadata": {
        "id": "0d026f17"
      },
      "source": [
        "# Parcial 1 · Machine Learning (Primer Corte)\n",
        "**Formato:** Notebook de Python (Colab/Jupyter)\n",
        "\n",
        "**Instrucciones**\n",
        "- Responde directamente en las celdas indicadas con *Tu respuesta aquí*.\n",
        "- No borres el enunciado de las preguntas.\n",
        "- No uses gráficos; solo filtros, agrupaciones y cálculos básicos.\n",
        "- Mantén el código y comentarios en **español**.\n",
        "- **Entrega**: sube este `.ipynb` resuelto a la plataforma indicada.\n",
        "\n",
        "**Dataset esperado (`students.csv`)**\n",
        "Columnas: `gender, race/ethnicity, parental level of education, lunch, test preparation course, math score, reading score, writing score`.\n",
        "\n",
        "**Estructura del parcial**\n",
        "- **Sección A — Fundamentos (6 preguntas)**\n",
        "- **Sección B — EDA con filtros y agrupaciones (6 preguntas)**\n",
        "\n",
        "**Puntaje**: 100 puntos (≈ 8.3 por pregunta).\n",
        "\n",
        "---"
      ]
    },
    {
      "cell_type": "code",
      "execution_count": 1,
      "id": "7edbe5e7",
      "metadata": {
        "id": "7edbe5e7",
        "colab": {
          "base_uri": "https://localhost:8080/"
        },
        "outputId": "7f51bb77-74b9-41e0-b955-136a0eab05b0"
      },
      "outputs": [
        {
          "output_type": "stream",
          "name": "stdout",
          "text": [
            "--2025-09-17 20:49:26--  https://raw.githubusercontent.com/javierherrera1996/lecture_analytics/main/StudentsPerformance.csv\n",
            "Resolving raw.githubusercontent.com (raw.githubusercontent.com)... 185.199.108.133, 185.199.109.133, 185.199.110.133, ...\n",
            "Connecting to raw.githubusercontent.com (raw.githubusercontent.com)|185.199.108.133|:443... connected.\n",
            "HTTP request sent, awaiting response... 200 OK\n",
            "Length: 72036 (70K) [text/plain]\n",
            "Saving to: ‘StudentsPerformance.csv’\n",
            "\n",
            "\rStudentsPerformance   0%[                    ]       0  --.-KB/s               \rStudentsPerformance 100%[===================>]  70.35K  --.-KB/s    in 0.02s   \n",
            "\n",
            "2025-09-17 20:49:26 (3.22 MB/s) - ‘StudentsPerformance.csv’ saved [72036/72036]\n",
            "\n"
          ]
        }
      ],
      "source": [
        "!wget https://raw.githubusercontent.com/javierherrera1996/lecture_analytics/main/StudentsPerformance.csv"
      ]
    },
    {
      "cell_type": "markdown",
      "id": "cb60e77d",
      "metadata": {
        "id": "cb60e77d"
      },
      "source": [
        "### Dependencias (ejecuta esta celda primero)"
      ]
    },
    {
      "cell_type": "code",
      "execution_count": 2,
      "id": "34635d2a",
      "metadata": {
        "id": "34635d2a"
      },
      "outputs": [],
      "source": [
        "import pandas as pd\n",
        "import numpy as np"
      ]
    },
    {
      "cell_type": "markdown",
      "id": "f8613aea",
      "metadata": {
        "id": "f8613aea"
      },
      "source": [
        "## Carga del dataset\n",
        "Sube un archivo **`students.csv`** (mismo directorio del notebook) o ajusta la ruta en la celda. Si no tienes el archivo, puedes **generar una muestra mínima** con la celda opcional.\n"
      ]
    },
    {
      "cell_type": "code",
      "execution_count": 4,
      "id": "06f6c5f4",
      "metadata": {
        "id": "06f6c5f4"
      },
      "outputs": [],
      "source": [
        "df = pd.read_csv(\"StudentsPerformance.csv\")"
      ]
    },
    {
      "cell_type": "markdown",
      "id": "93ebf254",
      "metadata": {
        "id": "93ebf254"
      },
      "source": [
        "#### (Opcional) Generar una muestra mínima si no tienes el CSV"
      ]
    },
    {
      "cell_type": "code",
      "execution_count": 3,
      "id": "8a77cd91",
      "metadata": {
        "id": "8a77cd91"
      },
      "outputs": [],
      "source": []
    },
    {
      "cell_type": "markdown",
      "id": "b05fd9f0",
      "metadata": {
        "id": "b05fd9f0"
      },
      "source": [
        "## Sección A — Fundamentos de Machine Learning (Conceptual, sin métricas ni gráficos)"
      ]
    },
    {
      "cell_type": "markdown",
      "id": "f84a0d9b",
      "metadata": {
        "id": "f84a0d9b"
      },
      "source": [
        "### A1. Supervisado vs No Supervisado\n",
        "**Describe** con tus palabras la diferencia entre **aprendizaje supervisado** y **no supervisado**. Da **1 ejemplo** de cada uno aplicado a educación o negocios.\n",
        "\n",
        "_Tu respuesta aquí (Markdown):_ El aprendizaje supervisado se centra en entrenar un modelo con datos etiquetados, de manera que pueda clasificar nuevos datos y el aprendizaje no supervisado no tiene etiquetas,  se centra en encontrar patrones, diferencias y relacionar los datos.\n",
        "\n",
        "**Ejemplo Aprendizaje supervisado:** predecir el puntaje en el examen de inglés de un estudiante a partir de su nivel actual, número de prácticas y horas de estudio.\n",
        "**Ejemplo Aprendizaje no supervisado:** dentificar productos que suelen comprarse juntos en un supermercado (por ejemplo, leche y pan), usando análisis de cestas de compra."
      ]
    },
    {
      "cell_type": "markdown",
      "id": "075d0640",
      "metadata": {
        "id": "075d0640"
      },
      "source": [
        "### A2. Variable dependiente e independientes\n",
        "Si queremos predecir `math score`, ¿cuál es la **variable dependiente**? Menciona **dos** posibles **variables independientes** justificando por qué.\n",
        "\n",
        "_Tu respuesta aquí (Markdown):_La variable dependiente es math_score, porque es el resultado que queremos predecir.\n",
        "**Variables independientes:**\n",
        "Test preparation course: realizar un curso de preparación puede impactar directamente en el puntaje de matemáticas. y Parental level of education: el nivel educativo de los padres puede influir en el rendimiento académico de los estudiantes."
      ]
    },
    {
      "cell_type": "markdown",
      "id": "42cc723f",
      "metadata": {
        "id": "42cc723f"
      },
      "source": [
        "### A3. Clasificación binaria\n",
        "Si clasificamos estudiantes en **Aprobado** (≥ 60) vs **No aprobado**, ¿qué tipo de aprendizaje es? Justifica brevemente.\n",
        "\n",
        "_Tu respuesta aquí (Markdown):_Si clasificamos estudiantes en Aprobado (≥ 60) y No aprobado, se trata de un aprendizaje supervisado porque ya tenemos etiquetas definidas (aprobado / no aprobado) y entrenamos al modelo a clasificar según esas etiquetas."
      ]
    },
    {
      "cell_type": "markdown",
      "id": "bf02bab8",
      "metadata": {
        "id": "bf02bab8"
      },
      "source": [
        "### A4. Casos de negocio (supervisado)\n",
        "Da **dos** ejemplos de problemas de negocio donde usarías aprendizaje **supervisado** y explica por qué.\n",
        "\n",
        "_Tu respuesta aquí (Markdown):_Ejemplo 1 - Sector bancario: predecir si un cliente pagará o no un crédito en función de su historial financiero.\n",
        "\n",
        "ejemplo 2- Detección de correos spam: usando ejemplos de correos ya clasificados como “spam” o “no spam”, entrenar un modelo que identifique nuevos correos entrantes."
      ]
    },
    {
      "cell_type": "markdown",
      "id": "feef5edc",
      "metadata": {
        "id": "feef5edc"
      },
      "source": [
        "### A5. Casos de negocio (no supervisado)\n",
        "Da **dos** ejemplos de problemas de negocio donde usarías aprendizaje **no supervisado** y explica por qué.\n",
        "\n",
        "_Tu respuesta aquí (Markdown):_\n",
        "Ejemplo 1 - Análisis de compras: identificar productos que suelen comprarse juntos, como leche + pan o cerveza + papas fritas, es no supervisado porque el sistema descubre las asociaciones sin que haya una clasificación previa.\n",
        "\n",
        "Ejemplo 2 - Logística: optimizar rutas de transporte agrupando entregas cercanas geográficamente, es no supervisado porque no hay etiquetas de rutas correctas, el sistema genera las agrupaciones.\n"
      ]
    },
    {
      "cell_type": "markdown",
      "id": "33f2b6fd",
      "metadata": {
        "id": "33f2b6fd"
      },
      "source": [
        "### A6. Segmentación por similitud\n",
        "Si quieres segmentar estudiantes por similitud de `reading score` y `writing score`, ¿qué tipo de aprendizaje usarías y por qué?\n",
        "\n",
        "_Tu respuesta aquí (Markdown):_usaríamos aprendizaje no supervisado,ya que no tenemos etiquetas previas sino que dejamos que el modelo agrupe automáticamente a los estudiantes según la cercanía o similitud en sus puntajes de lectura y escritura."
      ]
    },
    {
      "cell_type": "markdown",
      "id": "b7f594ed",
      "metadata": {
        "id": "b7f594ed"
      },
      "source": [
        "## Sección B — EDA (solo filtros y agrupaciones, foco de negocio)"
      ]
    },
    {
      "cell_type": "markdown",
      "id": "f60a6103",
      "metadata": {
        "id": "f60a6103"
      },
      "source": [
        "### B7. Promedio de matemáticas por género\n",
        "Calcula el **promedio de `math score` por `gender`**.\n",
        "- ¿Qué género tiene mejor promedio?\n",
        "- **Conclusión de negocio**: en 1–2 líneas, ¿qué harías con esta información?\n",
        "\n",
        "_Escribe tu código y comentarios:_"
      ]
    },
    {
      "cell_type": "code",
      "execution_count": 6,
      "id": "34e84ef6",
      "metadata": {
        "id": "34e84ef6",
        "colab": {
          "base_uri": "https://localhost:8080/",
          "height": 178
        },
        "outputId": "79c14c33-6306-417f-d14e-20ac95506604"
      },
      "outputs": [
        {
          "output_type": "execute_result",
          "data": {
            "text/plain": [
              "gender\n",
              "female    63.633205\n",
              "male      68.728216\n",
              "Name: math score, dtype: float64"
            ],
            "text/html": [
              "<div>\n",
              "<style scoped>\n",
              "    .dataframe tbody tr th:only-of-type {\n",
              "        vertical-align: middle;\n",
              "    }\n",
              "\n",
              "    .dataframe tbody tr th {\n",
              "        vertical-align: top;\n",
              "    }\n",
              "\n",
              "    .dataframe thead th {\n",
              "        text-align: right;\n",
              "    }\n",
              "</style>\n",
              "<table border=\"1\" class=\"dataframe\">\n",
              "  <thead>\n",
              "    <tr style=\"text-align: right;\">\n",
              "      <th></th>\n",
              "      <th>math score</th>\n",
              "    </tr>\n",
              "    <tr>\n",
              "      <th>gender</th>\n",
              "      <th></th>\n",
              "    </tr>\n",
              "  </thead>\n",
              "  <tbody>\n",
              "    <tr>\n",
              "      <th>female</th>\n",
              "      <td>63.633205</td>\n",
              "    </tr>\n",
              "    <tr>\n",
              "      <th>male</th>\n",
              "      <td>68.728216</td>\n",
              "    </tr>\n",
              "  </tbody>\n",
              "</table>\n",
              "</div><br><label><b>dtype:</b> float64</label>"
            ]
          },
          "metadata": {},
          "execution_count": 6
        }
      ],
      "source": [
        "df.groupby('gender')['math score'].mean()"
      ]
    },
    {
      "cell_type": "markdown",
      "source": [
        "Los hombres tienen en promedio un puntaje més alto en matemáticas. Con esta información se podrían diseñar programas de refuerzo dirigidos especialmente a mujeres"
      ],
      "metadata": {
        "id": "KDPbIEvPkJvq"
      },
      "id": "KDPbIEvPkJvq"
    },
    {
      "cell_type": "markdown",
      "id": "5127174e",
      "metadata": {
        "id": "5127174e"
      },
      "source": [
        "### B8. Lectura por grupo étnico\n",
        "Calcula el **promedio de `reading score` por `race/ethnicity`**.\n",
        "- ¿Qué grupo tiene mejor desempeño?\n",
        "- **Aplicación**: ¿cómo usarías esto en un programa de apoyo escolar?\n",
        "\n",
        "_Escribe tu código y comentarios:_"
      ]
    },
    {
      "cell_type": "code",
      "execution_count": 8,
      "id": "7fd591b9",
      "metadata": {
        "id": "7fd591b9",
        "colab": {
          "base_uri": "https://localhost:8080/",
          "height": 272
        },
        "outputId": "805cba61-b9eb-4dd0-d31e-6ac12a6a6804"
      },
      "outputs": [
        {
          "output_type": "execute_result",
          "data": {
            "text/plain": [
              "race/ethnicity\n",
              "group E    73.028571\n",
              "group D    70.030534\n",
              "group C    69.103448\n",
              "group B    67.352632\n",
              "group A    64.674157\n",
              "Name: reading score, dtype: float64"
            ],
            "text/html": [
              "<div>\n",
              "<style scoped>\n",
              "    .dataframe tbody tr th:only-of-type {\n",
              "        vertical-align: middle;\n",
              "    }\n",
              "\n",
              "    .dataframe tbody tr th {\n",
              "        vertical-align: top;\n",
              "    }\n",
              "\n",
              "    .dataframe thead th {\n",
              "        text-align: right;\n",
              "    }\n",
              "</style>\n",
              "<table border=\"1\" class=\"dataframe\">\n",
              "  <thead>\n",
              "    <tr style=\"text-align: right;\">\n",
              "      <th></th>\n",
              "      <th>reading score</th>\n",
              "    </tr>\n",
              "    <tr>\n",
              "      <th>race/ethnicity</th>\n",
              "      <th></th>\n",
              "    </tr>\n",
              "  </thead>\n",
              "  <tbody>\n",
              "    <tr>\n",
              "      <th>group E</th>\n",
              "      <td>73.028571</td>\n",
              "    </tr>\n",
              "    <tr>\n",
              "      <th>group D</th>\n",
              "      <td>70.030534</td>\n",
              "    </tr>\n",
              "    <tr>\n",
              "      <th>group C</th>\n",
              "      <td>69.103448</td>\n",
              "    </tr>\n",
              "    <tr>\n",
              "      <th>group B</th>\n",
              "      <td>67.352632</td>\n",
              "    </tr>\n",
              "    <tr>\n",
              "      <th>group A</th>\n",
              "      <td>64.674157</td>\n",
              "    </tr>\n",
              "  </tbody>\n",
              "</table>\n",
              "</div><br><label><b>dtype:</b> float64</label>"
            ]
          },
          "metadata": {},
          "execution_count": 8
        }
      ],
      "source": [
        "df.groupby('race/ethnicity')['reading score'].mean().sort_values(ascending=False)"
      ]
    },
    {
      "cell_type": "markdown",
      "source": [
        "El Group E tiene el promedio más alto en lectura 73.02. Con esta información, se podría enfocar un programa de refuerzo en los grupos con menor desempeño, especialmente el Group A."
      ],
      "metadata": {
        "id": "02myss0Sl_Ka"
      },
      "id": "02myss0Sl_Ka"
    },
    {
      "cell_type": "markdown",
      "id": "ec29181f",
      "metadata": {
        "id": "ec29181f"
      },
      "source": [
        "### B9. Impacto del tipo de almuerzo\n",
        "Filtra estudiantes con `lunch = free/reduced` y calcula el **promedio de `math score` y `reading score`**. Compáralo con `lunch = standard`.\n",
        "- **Conclusión de negocio**: ¿qué acción propones?\n",
        "\n",
        "_Escribe tu código y comentarios:_"
      ]
    },
    {
      "cell_type": "code",
      "execution_count": 11,
      "id": "536a926c",
      "metadata": {
        "id": "536a926c",
        "colab": {
          "base_uri": "https://localhost:8080/",
          "height": 144
        },
        "outputId": "f9c8d113-bbcc-4a6e-aaf5-98cc8c1f4756"
      },
      "outputs": [
        {
          "output_type": "execute_result",
          "data": {
            "text/plain": [
              "              math score  reading score\n",
              "lunch                                  \n",
              "free/reduced   58.921127      64.653521\n",
              "standard       70.034109      71.654264"
            ],
            "text/html": [
              "\n",
              "  <div id=\"df-22e84b23-d6c6-4410-a75d-c3db7964140b\" class=\"colab-df-container\">\n",
              "    <div>\n",
              "<style scoped>\n",
              "    .dataframe tbody tr th:only-of-type {\n",
              "        vertical-align: middle;\n",
              "    }\n",
              "\n",
              "    .dataframe tbody tr th {\n",
              "        vertical-align: top;\n",
              "    }\n",
              "\n",
              "    .dataframe thead th {\n",
              "        text-align: right;\n",
              "    }\n",
              "</style>\n",
              "<table border=\"1\" class=\"dataframe\">\n",
              "  <thead>\n",
              "    <tr style=\"text-align: right;\">\n",
              "      <th></th>\n",
              "      <th>math score</th>\n",
              "      <th>reading score</th>\n",
              "    </tr>\n",
              "    <tr>\n",
              "      <th>lunch</th>\n",
              "      <th></th>\n",
              "      <th></th>\n",
              "    </tr>\n",
              "  </thead>\n",
              "  <tbody>\n",
              "    <tr>\n",
              "      <th>free/reduced</th>\n",
              "      <td>58.921127</td>\n",
              "      <td>64.653521</td>\n",
              "    </tr>\n",
              "    <tr>\n",
              "      <th>standard</th>\n",
              "      <td>70.034109</td>\n",
              "      <td>71.654264</td>\n",
              "    </tr>\n",
              "  </tbody>\n",
              "</table>\n",
              "</div>\n",
              "    <div class=\"colab-df-buttons\">\n",
              "\n",
              "  <div class=\"colab-df-container\">\n",
              "    <button class=\"colab-df-convert\" onclick=\"convertToInteractive('df-22e84b23-d6c6-4410-a75d-c3db7964140b')\"\n",
              "            title=\"Convert this dataframe to an interactive table.\"\n",
              "            style=\"display:none;\">\n",
              "\n",
              "  <svg xmlns=\"http://www.w3.org/2000/svg\" height=\"24px\" viewBox=\"0 -960 960 960\">\n",
              "    <path d=\"M120-120v-720h720v720H120Zm60-500h600v-160H180v160Zm220 220h160v-160H400v160Zm0 220h160v-160H400v160ZM180-400h160v-160H180v160Zm440 0h160v-160H620v160ZM180-180h160v-160H180v160Zm440 0h160v-160H620v160Z\"/>\n",
              "  </svg>\n",
              "    </button>\n",
              "\n",
              "  <style>\n",
              "    .colab-df-container {\n",
              "      display:flex;\n",
              "      gap: 12px;\n",
              "    }\n",
              "\n",
              "    .colab-df-convert {\n",
              "      background-color: #E8F0FE;\n",
              "      border: none;\n",
              "      border-radius: 50%;\n",
              "      cursor: pointer;\n",
              "      display: none;\n",
              "      fill: #1967D2;\n",
              "      height: 32px;\n",
              "      padding: 0 0 0 0;\n",
              "      width: 32px;\n",
              "    }\n",
              "\n",
              "    .colab-df-convert:hover {\n",
              "      background-color: #E2EBFA;\n",
              "      box-shadow: 0px 1px 2px rgba(60, 64, 67, 0.3), 0px 1px 3px 1px rgba(60, 64, 67, 0.15);\n",
              "      fill: #174EA6;\n",
              "    }\n",
              "\n",
              "    .colab-df-buttons div {\n",
              "      margin-bottom: 4px;\n",
              "    }\n",
              "\n",
              "    [theme=dark] .colab-df-convert {\n",
              "      background-color: #3B4455;\n",
              "      fill: #D2E3FC;\n",
              "    }\n",
              "\n",
              "    [theme=dark] .colab-df-convert:hover {\n",
              "      background-color: #434B5C;\n",
              "      box-shadow: 0px 1px 3px 1px rgba(0, 0, 0, 0.15);\n",
              "      filter: drop-shadow(0px 1px 2px rgba(0, 0, 0, 0.3));\n",
              "      fill: #FFFFFF;\n",
              "    }\n",
              "  </style>\n",
              "\n",
              "    <script>\n",
              "      const buttonEl =\n",
              "        document.querySelector('#df-22e84b23-d6c6-4410-a75d-c3db7964140b button.colab-df-convert');\n",
              "      buttonEl.style.display =\n",
              "        google.colab.kernel.accessAllowed ? 'block' : 'none';\n",
              "\n",
              "      async function convertToInteractive(key) {\n",
              "        const element = document.querySelector('#df-22e84b23-d6c6-4410-a75d-c3db7964140b');\n",
              "        const dataTable =\n",
              "          await google.colab.kernel.invokeFunction('convertToInteractive',\n",
              "                                                    [key], {});\n",
              "        if (!dataTable) return;\n",
              "\n",
              "        const docLinkHtml = 'Like what you see? Visit the ' +\n",
              "          '<a target=\"_blank\" href=https://colab.research.google.com/notebooks/data_table.ipynb>data table notebook</a>'\n",
              "          + ' to learn more about interactive tables.';\n",
              "        element.innerHTML = '';\n",
              "        dataTable['output_type'] = 'display_data';\n",
              "        await google.colab.output.renderOutput(dataTable, element);\n",
              "        const docLink = document.createElement('div');\n",
              "        docLink.innerHTML = docLinkHtml;\n",
              "        element.appendChild(docLink);\n",
              "      }\n",
              "    </script>\n",
              "  </div>\n",
              "\n",
              "\n",
              "    <div id=\"df-c733d177-ef6b-4243-9db2-79799b7fe4a5\">\n",
              "      <button class=\"colab-df-quickchart\" onclick=\"quickchart('df-c733d177-ef6b-4243-9db2-79799b7fe4a5')\"\n",
              "                title=\"Suggest charts\"\n",
              "                style=\"display:none;\">\n",
              "\n",
              "<svg xmlns=\"http://www.w3.org/2000/svg\" height=\"24px\"viewBox=\"0 0 24 24\"\n",
              "     width=\"24px\">\n",
              "    <g>\n",
              "        <path d=\"M19 3H5c-1.1 0-2 .9-2 2v14c0 1.1.9 2 2 2h14c1.1 0 2-.9 2-2V5c0-1.1-.9-2-2-2zM9 17H7v-7h2v7zm4 0h-2V7h2v10zm4 0h-2v-4h2v4z\"/>\n",
              "    </g>\n",
              "</svg>\n",
              "      </button>\n",
              "\n",
              "<style>\n",
              "  .colab-df-quickchart {\n",
              "      --bg-color: #E8F0FE;\n",
              "      --fill-color: #1967D2;\n",
              "      --hover-bg-color: #E2EBFA;\n",
              "      --hover-fill-color: #174EA6;\n",
              "      --disabled-fill-color: #AAA;\n",
              "      --disabled-bg-color: #DDD;\n",
              "  }\n",
              "\n",
              "  [theme=dark] .colab-df-quickchart {\n",
              "      --bg-color: #3B4455;\n",
              "      --fill-color: #D2E3FC;\n",
              "      --hover-bg-color: #434B5C;\n",
              "      --hover-fill-color: #FFFFFF;\n",
              "      --disabled-bg-color: #3B4455;\n",
              "      --disabled-fill-color: #666;\n",
              "  }\n",
              "\n",
              "  .colab-df-quickchart {\n",
              "    background-color: var(--bg-color);\n",
              "    border: none;\n",
              "    border-radius: 50%;\n",
              "    cursor: pointer;\n",
              "    display: none;\n",
              "    fill: var(--fill-color);\n",
              "    height: 32px;\n",
              "    padding: 0;\n",
              "    width: 32px;\n",
              "  }\n",
              "\n",
              "  .colab-df-quickchart:hover {\n",
              "    background-color: var(--hover-bg-color);\n",
              "    box-shadow: 0 1px 2px rgba(60, 64, 67, 0.3), 0 1px 3px 1px rgba(60, 64, 67, 0.15);\n",
              "    fill: var(--button-hover-fill-color);\n",
              "  }\n",
              "\n",
              "  .colab-df-quickchart-complete:disabled,\n",
              "  .colab-df-quickchart-complete:disabled:hover {\n",
              "    background-color: var(--disabled-bg-color);\n",
              "    fill: var(--disabled-fill-color);\n",
              "    box-shadow: none;\n",
              "  }\n",
              "\n",
              "  .colab-df-spinner {\n",
              "    border: 2px solid var(--fill-color);\n",
              "    border-color: transparent;\n",
              "    border-bottom-color: var(--fill-color);\n",
              "    animation:\n",
              "      spin 1s steps(1) infinite;\n",
              "  }\n",
              "\n",
              "  @keyframes spin {\n",
              "    0% {\n",
              "      border-color: transparent;\n",
              "      border-bottom-color: var(--fill-color);\n",
              "      border-left-color: var(--fill-color);\n",
              "    }\n",
              "    20% {\n",
              "      border-color: transparent;\n",
              "      border-left-color: var(--fill-color);\n",
              "      border-top-color: var(--fill-color);\n",
              "    }\n",
              "    30% {\n",
              "      border-color: transparent;\n",
              "      border-left-color: var(--fill-color);\n",
              "      border-top-color: var(--fill-color);\n",
              "      border-right-color: var(--fill-color);\n",
              "    }\n",
              "    40% {\n",
              "      border-color: transparent;\n",
              "      border-right-color: var(--fill-color);\n",
              "      border-top-color: var(--fill-color);\n",
              "    }\n",
              "    60% {\n",
              "      border-color: transparent;\n",
              "      border-right-color: var(--fill-color);\n",
              "    }\n",
              "    80% {\n",
              "      border-color: transparent;\n",
              "      border-right-color: var(--fill-color);\n",
              "      border-bottom-color: var(--fill-color);\n",
              "    }\n",
              "    90% {\n",
              "      border-color: transparent;\n",
              "      border-bottom-color: var(--fill-color);\n",
              "    }\n",
              "  }\n",
              "</style>\n",
              "\n",
              "      <script>\n",
              "        async function quickchart(key) {\n",
              "          const quickchartButtonEl =\n",
              "            document.querySelector('#' + key + ' button');\n",
              "          quickchartButtonEl.disabled = true;  // To prevent multiple clicks.\n",
              "          quickchartButtonEl.classList.add('colab-df-spinner');\n",
              "          try {\n",
              "            const charts = await google.colab.kernel.invokeFunction(\n",
              "                'suggestCharts', [key], {});\n",
              "          } catch (error) {\n",
              "            console.error('Error during call to suggestCharts:', error);\n",
              "          }\n",
              "          quickchartButtonEl.classList.remove('colab-df-spinner');\n",
              "          quickchartButtonEl.classList.add('colab-df-quickchart-complete');\n",
              "        }\n",
              "        (() => {\n",
              "          let quickchartButtonEl =\n",
              "            document.querySelector('#df-c733d177-ef6b-4243-9db2-79799b7fe4a5 button');\n",
              "          quickchartButtonEl.style.display =\n",
              "            google.colab.kernel.accessAllowed ? 'block' : 'none';\n",
              "        })();\n",
              "      </script>\n",
              "    </div>\n",
              "\n",
              "    </div>\n",
              "  </div>\n"
            ],
            "application/vnd.google.colaboratory.intrinsic+json": {
              "type": "dataframe",
              "summary": "{\n  \"name\": \"df\",\n  \"rows\": 2,\n  \"fields\": [\n    {\n      \"column\": \"lunch\",\n      \"properties\": {\n        \"dtype\": \"string\",\n        \"num_unique_values\": 2,\n        \"samples\": [\n          \"standard\",\n          \"free/reduced\"\n        ],\n        \"semantic_type\": \"\",\n        \"description\": \"\"\n      }\n    },\n    {\n      \"column\": \"math score\",\n      \"properties\": {\n        \"dtype\": \"number\",\n        \"std\": 7.858064766342971,\n        \"min\": 58.92112676056338,\n        \"max\": 70.03410852713178,\n        \"num_unique_values\": 2,\n        \"samples\": [\n          70.03410852713178,\n          58.92112676056338\n        ],\n        \"semantic_type\": \"\",\n        \"description\": \"\"\n      }\n    },\n    {\n      \"column\": \"reading score\",\n      \"properties\": {\n        \"dtype\": \"number\",\n        \"std\": 4.950272452049912,\n        \"min\": 64.65352112676057,\n        \"max\": 71.65426356589147,\n        \"num_unique_values\": 2,\n        \"samples\": [\n          71.65426356589147,\n          64.65352112676057\n        ],\n        \"semantic_type\": \"\",\n        \"description\": \"\"\n      }\n    }\n  ]\n}"
            }
          },
          "metadata": {},
          "execution_count": 11
        }
      ],
      "source": [
        "df.groupby('lunch')[['math score', 'reading score']].mean()"
      ]
    },
    {
      "cell_type": "markdown",
      "source": [
        "Los estudiantes con almuerzo estándar tienen mejores promedios tanto en matemáticas como en lectura.propongo desarrollar un programa de financiación orientado a mejorar la alimentación escolar en la modalidad free/reduced, para reducir la brecha de desempeño académico"
      ],
      "metadata": {
        "id": "pawNIHWPnfqT"
      },
      "id": "pawNIHWPnfqT"
    },
    {
      "cell_type": "markdown",
      "id": "1cc05360",
      "metadata": {
        "id": "1cc05360"
      },
      "source": [
        "### B10. Educación parental y rendimiento\n",
        "Agrupa por `parental level of education` y calcula el **promedio de `math score`**.\n",
        "- ¿Qué nivel se asocia con mejores resultados?\n",
        "- **Acción**: ¿qué intervención o programa harías basado en esto?\n",
        "\n",
        "_Escribe tu código y comentarios:_"
      ]
    },
    {
      "cell_type": "code",
      "execution_count": 9,
      "id": "626c2260",
      "metadata": {
        "id": "626c2260",
        "colab": {
          "base_uri": "https://localhost:8080/",
          "height": 304
        },
        "outputId": "40f1e7cf-a815-4cf6-9091-209386559825"
      },
      "outputs": [
        {
          "output_type": "execute_result",
          "data": {
            "text/plain": [
              "parental level of education\n",
              "master's degree       69.745763\n",
              "bachelor's degree     69.389831\n",
              "associate's degree    67.882883\n",
              "some college          67.128319\n",
              "some high school      63.497207\n",
              "high school           62.137755\n",
              "Name: math score, dtype: float64"
            ],
            "text/html": [
              "<div>\n",
              "<style scoped>\n",
              "    .dataframe tbody tr th:only-of-type {\n",
              "        vertical-align: middle;\n",
              "    }\n",
              "\n",
              "    .dataframe tbody tr th {\n",
              "        vertical-align: top;\n",
              "    }\n",
              "\n",
              "    .dataframe thead th {\n",
              "        text-align: right;\n",
              "    }\n",
              "</style>\n",
              "<table border=\"1\" class=\"dataframe\">\n",
              "  <thead>\n",
              "    <tr style=\"text-align: right;\">\n",
              "      <th></th>\n",
              "      <th>math score</th>\n",
              "    </tr>\n",
              "    <tr>\n",
              "      <th>parental level of education</th>\n",
              "      <th></th>\n",
              "    </tr>\n",
              "  </thead>\n",
              "  <tbody>\n",
              "    <tr>\n",
              "      <th>master's degree</th>\n",
              "      <td>69.745763</td>\n",
              "    </tr>\n",
              "    <tr>\n",
              "      <th>bachelor's degree</th>\n",
              "      <td>69.389831</td>\n",
              "    </tr>\n",
              "    <tr>\n",
              "      <th>associate's degree</th>\n",
              "      <td>67.882883</td>\n",
              "    </tr>\n",
              "    <tr>\n",
              "      <th>some college</th>\n",
              "      <td>67.128319</td>\n",
              "    </tr>\n",
              "    <tr>\n",
              "      <th>some high school</th>\n",
              "      <td>63.497207</td>\n",
              "    </tr>\n",
              "    <tr>\n",
              "      <th>high school</th>\n",
              "      <td>62.137755</td>\n",
              "    </tr>\n",
              "  </tbody>\n",
              "</table>\n",
              "</div><br><label><b>dtype:</b> float64</label>"
            ]
          },
          "metadata": {},
          "execution_count": 9
        }
      ],
      "source": [
        "df.groupby('parental level of education')['math score'].mean().sort_values(ascending=False)"
      ]
    },
    {
      "cell_type": "markdown",
      "source": [
        "el nivel de educacion de master's degree por parte de los padres se asocia con mejores resultados en matematicas. Una intervención efectiva podría ser un programa de tutoría y apoyo educativo dirigido a estudiantes cuyos padres tienen un nivel de educación inferior."
      ],
      "metadata": {
        "id": "Qg1J-zkiplEC"
      },
      "id": "Qg1J-zkiplEC"
    },
    {
      "cell_type": "markdown",
      "id": "1dd7725d",
      "metadata": {
        "id": "1dd7725d"
      },
      "source": [
        "### B11. Curso de preparación y puntaje\n",
        "Filtra estudiantes que **completaron** `test preparation course` y calcula el **promedio de `math score`**. Compáralo con quienes **no** lo completaron.\n",
        "- **Decisión**: ¿financiarías este curso? Explica.\n",
        "\n",
        "_Escribe tu código y comentarios:_"
      ]
    },
    {
      "cell_type": "code",
      "execution_count": 10,
      "id": "9141333d",
      "metadata": {
        "id": "9141333d",
        "colab": {
          "base_uri": "https://localhost:8080/",
          "height": 178
        },
        "outputId": "e44e065d-3a5e-4216-e80e-48b5ea4fd29c"
      },
      "outputs": [
        {
          "output_type": "execute_result",
          "data": {
            "text/plain": [
              "test preparation course\n",
              "completed    69.695531\n",
              "none         64.077882\n",
              "Name: math score, dtype: float64"
            ],
            "text/html": [
              "<div>\n",
              "<style scoped>\n",
              "    .dataframe tbody tr th:only-of-type {\n",
              "        vertical-align: middle;\n",
              "    }\n",
              "\n",
              "    .dataframe tbody tr th {\n",
              "        vertical-align: top;\n",
              "    }\n",
              "\n",
              "    .dataframe thead th {\n",
              "        text-align: right;\n",
              "    }\n",
              "</style>\n",
              "<table border=\"1\" class=\"dataframe\">\n",
              "  <thead>\n",
              "    <tr style=\"text-align: right;\">\n",
              "      <th></th>\n",
              "      <th>math score</th>\n",
              "    </tr>\n",
              "    <tr>\n",
              "      <th>test preparation course</th>\n",
              "      <th></th>\n",
              "    </tr>\n",
              "  </thead>\n",
              "  <tbody>\n",
              "    <tr>\n",
              "      <th>completed</th>\n",
              "      <td>69.695531</td>\n",
              "    </tr>\n",
              "    <tr>\n",
              "      <th>none</th>\n",
              "      <td>64.077882</td>\n",
              "    </tr>\n",
              "  </tbody>\n",
              "</table>\n",
              "</div><br><label><b>dtype:</b> float64</label>"
            ]
          },
          "metadata": {},
          "execution_count": 10
        }
      ],
      "source": [
        "df.groupby('test preparation course')['math score'].mean()"
      ]
    },
    {
      "cell_type": "markdown",
      "source": [
        "Sí, financiaría el curso. Los datos muestran que los estudiantes que lo completaron mejoraron su promedio en casi 6 puntos en matemáticas, esto justifica el costo del curso como una inversión que mejora el rendimiento académico y el potencial futuro de los estudiantes."
      ],
      "metadata": {
        "id": "c6VeynF4qvX8"
      },
      "id": "c6VeynF4qvX8"
    },
    {
      "cell_type": "markdown",
      "id": "aa4a861b",
      "metadata": {
        "id": "aa4a861b"
      },
      "source": [
        "### B12. Doble agrupación (negocio)\n",
        "Crea una **tabla** agrupada por `gender` y `test preparation course` con el **promedio de `writing score`**.\n",
        "- ¿Qué combinación muestra mejores resultados?\n",
        "- **Recomendación**: ¿a quién priorizas para una beca del curso?\n",
        "\n",
        "_Escribe tu código y comentarios:_"
      ]
    },
    {
      "cell_type": "code",
      "execution_count": 12,
      "id": "714de25f",
      "metadata": {
        "id": "714de25f",
        "colab": {
          "base_uri": "https://localhost:8080/",
          "height": 241
        },
        "outputId": "a007eec4-3614-4f8c-db31-2d99a163adda"
      },
      "outputs": [
        {
          "output_type": "execute_result",
          "data": {
            "text/plain": [
              "gender  test preparation course\n",
              "female  completed                  78.793478\n",
              "        none                       68.982036\n",
              "male    completed                  69.793103\n",
              "        none                       59.649351\n",
              "Name: writing score, dtype: float64"
            ],
            "text/html": [
              "<div>\n",
              "<style scoped>\n",
              "    .dataframe tbody tr th:only-of-type {\n",
              "        vertical-align: middle;\n",
              "    }\n",
              "\n",
              "    .dataframe tbody tr th {\n",
              "        vertical-align: top;\n",
              "    }\n",
              "\n",
              "    .dataframe thead th {\n",
              "        text-align: right;\n",
              "    }\n",
              "</style>\n",
              "<table border=\"1\" class=\"dataframe\">\n",
              "  <thead>\n",
              "    <tr style=\"text-align: right;\">\n",
              "      <th></th>\n",
              "      <th></th>\n",
              "      <th>writing score</th>\n",
              "    </tr>\n",
              "    <tr>\n",
              "      <th>gender</th>\n",
              "      <th>test preparation course</th>\n",
              "      <th></th>\n",
              "    </tr>\n",
              "  </thead>\n",
              "  <tbody>\n",
              "    <tr>\n",
              "      <th rowspan=\"2\" valign=\"top\">female</th>\n",
              "      <th>completed</th>\n",
              "      <td>78.793478</td>\n",
              "    </tr>\n",
              "    <tr>\n",
              "      <th>none</th>\n",
              "      <td>68.982036</td>\n",
              "    </tr>\n",
              "    <tr>\n",
              "      <th rowspan=\"2\" valign=\"top\">male</th>\n",
              "      <th>completed</th>\n",
              "      <td>69.793103</td>\n",
              "    </tr>\n",
              "    <tr>\n",
              "      <th>none</th>\n",
              "      <td>59.649351</td>\n",
              "    </tr>\n",
              "  </tbody>\n",
              "</table>\n",
              "</div><br><label><b>dtype:</b> float64</label>"
            ]
          },
          "metadata": {},
          "execution_count": 12
        }
      ],
      "source": [
        "df.groupby(['gender', 'test preparation course'])['writing score'].mean()"
      ]
    },
    {
      "cell_type": "markdown",
      "source": [
        "La combinación que muestra los mejores resultados es la de las mujeres que completaron el curso de preparación.\n",
        "\n",
        "Sin embargo, para una beca, yo priorizaría a los hombres,ya que el curso tiene un mayor impacto en sus resultados en comparación con las mujeres."
      ],
      "metadata": {
        "id": "xXE-wncKrN-7"
      },
      "id": "xXE-wncKrN-7"
    },
    {
      "cell_type": "code",
      "source": [],
      "metadata": {
        "id": "KR-yWNWjmqMq"
      },
      "id": "KR-yWNWjmqMq",
      "execution_count": null,
      "outputs": []
    }
  ],
  "metadata": {
    "kernelspec": {
      "display_name": "Python 3",
      "language": "python",
      "name": "python3"
    },
    "language_info": {
      "name": "python",
      "version": "3.x"
    },
    "colab": {
      "provenance": []
    }
  },
  "nbformat": 4,
  "nbformat_minor": 5
}